{
 "cells": [
  {
   "cell_type": "code",
   "execution_count": null,
   "id": "611fbe11",
   "metadata": {},
   "outputs": [],
   "source": [
    "print (\"Python prereq\")\n"
   ]
  },
  {
   "cell_type": "markdown",
   "id": "86dcc3df",
   "metadata": {},
   "source": [
    "Hi I'm Erin and I am excited to learn Python and SQL. I work for a tech company in operations and I want to gain skills to transition to a career in data analysis. "
   ]
  }
 ],
 "metadata": {
  "language_info": {
   "name": "python"
  }
 },
 "nbformat": 4,
 "nbformat_minor": 5
}
